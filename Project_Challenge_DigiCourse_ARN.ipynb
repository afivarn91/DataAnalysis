{
  "nbformat": 4,
  "nbformat_minor": 0,
  "metadata": {
    "colab": {
      "provenance": []
    },
    "kernelspec": {
      "name": "python3",
      "display_name": "Python 3"
    },
    "language_info": {
      "name": "python"
    }
  },
  "cells": [
    {
      "cell_type": "markdown",
      "source": [
        "# **Penjelasan Challenge**\n",
        "\n",
        "\n",
        "**Studi Kasus: Visualisasi data**\n",
        "\n",
        "Studi kasus ini bertujuan untuk menganalisis dataset yang berhubungan dengan prediksi diabetes, dengan fokus pada distribusi dan korelasi fitur-fitur tertentu yang relevan. Langkah pertama dalam eksplorasi data adalah mengimpor dataset yang tersedia melalui URL. Dataset ini kemudian dibersihkan dengan menghapus kolom yang dianggap tidak relevan, seperti 'SkinThickness' dan 'BloodPressure', untuk memfokuskan analisis pada fitur-fitur yang lebih signifikan."
      ],
      "metadata": {
        "id": "lCGAgF1L5exb"
      }
    },
    {
      "cell_type": "markdown",
      "source": [
        "**Dataset**\n",
        "\n",
        "1. Pregnancies: Jumlah kehamilan yang pernah dialami.\n",
        "2. Glucose: Konsentrasi glukosa plasma dari tes toleransi glukosa oral.\n",
        "3. BloodPressure: Tekanan darah diastolik dalam mm Hg.\n",
        "4. BloodPressure: Tekanan darah diastolik dalam mm Hg.\n",
        "5. SkinThickness: Ketebalan lipatan kulit triceps dalam mm.\n",
        "6. Insulin: Kadar insulin serum selama 2 jam (mu U/ml).\n",
        "7. BMI: Indeks Massa Tubuh (kg/m²).\n",
        "8. DiabetesPedigreeFunction: Probabilitas diabetes berdasarkan riwayat keluarga.\n",
        "9. Age: Usia pasien dalam tahun.\n",
        "10. Outcome: Diagnosis diabetes (0: Tidak diabetes, 1: Diabetes)."
      ],
      "metadata": {
        "id": "vmFfq_vZ_X5E"
      }
    },
    {
      "cell_type": "markdown",
      "source": [
        "#Import Library"
      ],
      "metadata": {
        "id": "025KlCjYlWZn"
      }
    },
    {
      "cell_type": "code",
      "execution_count": 1,
      "metadata": {
        "id": "majT5YaskG9y"
      },
      "outputs": [],
      "source": [
        "import pandas as pd\n",
        "import numpy as np\n",
        "import matplotlib.pyplot as plt\n",
        "import seaborn as sns\n",
        "import plotly.express as px\n",
        "import plotly.graph_objects as go\n",
        "from plotly.subplots import make_subplots\n",
        "import plotly.express as px\n",
        "from matplotlib.backends.backend_agg import FigureCanvasAgg as FigureCanvas\n",
        "import io\n",
        "import base64"
      ]
    },
    {
      "cell_type": "code",
      "source": [
        "from google.colab import drive\n",
        "drive.mount('/content/drive/')"
      ],
      "metadata": {
        "colab": {
          "base_uri": "https://localhost:8080/"
        },
        "id": "5KflF7QKuQoM",
        "outputId": "1dfca6b3-ec7a-4267-e5e4-6a9d1874cddb"
      },
      "execution_count": 2,
      "outputs": [
        {
          "output_type": "stream",
          "name": "stdout",
          "text": [
            "Mounted at /content/drive/\n"
          ]
        }
      ]
    },
    {
      "cell_type": "markdown",
      "source": [
        "#Read Data"
      ],
      "metadata": {
        "id": "1hod5EbplnyG"
      }
    },
    {
      "cell_type": "markdown",
      "source": [
        "Membaca dataset dengan pandas, dataset yang akan digunakan dalam bentuk csv\n",
        "\n",
        "Link dataset = https://drive.google.com/uc?export=download&id=1UrXdSo9xQ0OT-X3osJxVEWf_q4m5C5xG"
      ],
      "metadata": {
        "id": "oPZC6mHblqfY"
      }
    },
    {
      "cell_type": "code",
      "source": [
        "# URL dataset\n",
        "url = \"https://drive.google.com/uc?export=download&id=1UrXdSo9xQ0OT-X3osJxVEWf_q4m5C5xG\"\n",
        "\n",
        "# Membaca dataset\n",
        "dataset = pd.read_csv(url)"
      ],
      "metadata": {
        "id": "DhmZ9DNYkbCL"
      },
      "execution_count": 4,
      "outputs": []
    },
    {
      "cell_type": "markdown",
      "source": [
        "**Drop unnecessary columns**\n",
        "\n",
        "Hapus kolom yang tidak relevan ('SkinThickness' dan 'BloodPressure') untuk menyederhanakan analisis."
      ],
      "metadata": {
        "id": "mUHyKJKl4xkL"
      }
    },
    {
      "cell_type": "code",
      "source": [
        "dataset = dataset.drop(columns=['SkinThickness', 'BloodPressure'])"
      ],
      "metadata": {
        "id": "lPWpparLlCGJ"
      },
      "execution_count": 5,
      "outputs": []
    },
    {
      "cell_type": "code",
      "source": [
        "# Menampilkan 10 baris pertama dari dataset\n",
        "print(dataset.head(10))"
      ],
      "metadata": {
        "id": "TC0Va8CgDexb",
        "colab": {
          "base_uri": "https://localhost:8080/"
        },
        "outputId": "87946a88-ab72-4af1-8b5f-5eb704a74f44"
      },
      "execution_count": 6,
      "outputs": [
        {
          "output_type": "stream",
          "name": "stdout",
          "text": [
            "   Pregnancies  Glucose  Insulin   BMI  DiabetesPedigreeFunction  Age  Outcome\n",
            "0            6      148        0  33.6                     0.627   50        1\n",
            "1            1       85        0  26.6                     0.351   31        0\n",
            "2            8      183        0  23.3                     0.672   32        1\n",
            "3            1       89       94  28.1                     0.167   21        0\n",
            "4            5      116        0  25.6                     0.201   30        0\n",
            "5            3       78       88  31.0                     0.248   26        1\n",
            "6            4      110        0  37.6                     0.191   30        0\n",
            "7           10      168        0  38.0                     0.537   34        1\n",
            "8           10      139        0  27.1                     1.441   57        0\n",
            "9            5      166      175  25.8                     0.587   51        1\n"
          ]
        }
      ]
    },
    {
      "cell_type": "markdown",
      "source": [
        "**Create boxplots for Glucose and BMI**\n",
        "\n",
        "Buat boxplot untuk melihat distribusi dan outlier pada kolom 'Glucose' dan 'BMI'."
      ],
      "metadata": {
        "id": "uRIfdftZ8aRs"
      }
    },
    {
      "cell_type": "code",
      "source": [
        "plt.figure(figsize=(12, 6))\n",
        "# Boxplot 'Glucose'\n",
        "plt.subplot(1, 2, 1)\n",
        "sns.boxplot(y=dataset['Glucose'])\n",
        "plt.title('Boxplot Glucose')\n",
        "# Boxplot 'BMI'\n",
        "plt.subplot(1, 2, 2)\n",
        "sns.boxplot(y=dataset['BMI'])\n",
        "plt.title('Boxplot BMI')\n",
        "plt.tight_layout()\n",
        "plt.show()\n"
      ],
      "metadata": {
        "id": "3Pu6x8TE3qDv",
        "colab": {
          "base_uri": "https://localhost:8080/",
          "height": 607
        },
        "outputId": "e805634e-1bd6-44ff-8c04-a931411b27a0"
      },
      "execution_count": 7,
      "outputs": [
        {
          "output_type": "display_data",
          "data": {
            "text/plain": [
              "<Figure size 1200x600 with 2 Axes>"
            ],
            "image/png": "[encoded data removed]"
          },
          "metadata": {}
        }
      ]
    },
    {
      "cell_type": "markdown",
      "source": [
        "**Hasil Interpretasi :**"
      ],
      "metadata": {
        "id": "wVz4ZGxFDBz2"
      }
    },
    {
      "cell_type": "markdown",
      "source": [
        "*   **Boxplot Glucose**\n",
        "\n",
        "    Berdasarkan hasil visualisasi data pada kolom Glucose dapat diketahui bahwa tidak terdapat outlier pada data Glucose dengan median berada di sekitar 110 - 120 yang menunjukkan pusat data. Lalu, Rentang interkuartil (IQR) cukup luas, menunjukkan variabilitas yang moderat. Kemudian Nilai minimum berada diangka 40, sedangkan nilai maksimum mendekati 200. Selain itu, Whisker bawah dan atas mencakup sebagian besar data tanpa adanya nilai ekstrem. Kolom Glucose tidak memiliki outlier yang signikan, sehingga data terlihat cukup bersih.\n",
        "\n",
        "*   **Boxplot BMI**\n",
        "\n",
        "    Berdasarkan hasil visualisasi data pada kolom BMI dapat diketahui bahwa data BMI memiliki beberapa outlier di sisi atas (lebih dari 50). Median pada data BMI berada di sekitar 32, dengan rentang IQR yang cukup lebar, sehingga menunjukkan variasi data yang besar. Kemudian pada whisker bagian atas ditemukan Outlier yang menunjukkan adanya individu dengan nilai BMI yang jauh lebih tinggi dari distribusi utama. Sehingga perlu dianalisis lebih lanjut untuk menentukan apakah outlier tersebut disebabkan oleh kesalahan data atau merupakan karakteristik yang sebenarnya.\n",
        "\n",
        "\n"
      ],
      "metadata": {
        "id": "idereu03DQOI"
      }
    },
    {
      "cell_type": "markdown",
      "source": [
        "**Outcome distribution using matplotlib**\n",
        "\n",
        "Buat pie chart dengan matplotlib untuk menunjukkan distribusi kelas pada kolom 'Outcome'."
      ],
      "metadata": {
        "id": "42fhoqGE8jCB"
      }
    },
    {
      "cell_type": "code",
      "source": [
        "outcome_counts = dataset['Outcome'].value_counts()\n",
        "plt.figure(figsize=(6, 6))\n",
        "plt.pie(outcome_counts, labels=outcome_counts.index, autopct='%1.1f%%', startangle=90, colors=['#708238', '#D0F0C0'])\n",
        "plt.title('Distribution of Outcome')\n",
        "plt.axis('equal')\n",
        "plt.show()"
      ],
      "metadata": {
        "id": "Iaga74Xq3vt_",
        "colab": {
          "base_uri": "https://localhost:8080/",
          "height": 521
        },
        "outputId": "5ea4ccf1-2ee0-44eb-c20a-df3a93206a32"
      },
      "execution_count": 8,
      "outputs": [
        {
          "output_type": "display_data",
          "data": {
            "text/plain": [
              "<Figure size 600x600 with 1 Axes>"
            ],
            "image/png": "[encoded data removed]"
          },
          "metadata": {}
        }
      ]
    },
    {
      "cell_type": "markdown",
      "source": [
        "**Hasil Interpretasi :**"
      ],
      "metadata": {
        "id": "KaxQZC_vDkqk"
      }
    },
    {
      "cell_type": "markdown",
      "source": [
        "Berdasarkan hasil visualisasi data distribution of outcome diagnosis diabetes, dapat diketahui bahwa 67% individu dalam dataset didiagnosis\n",
        "tidak memiliki diabetes (kategori 0) dan 33% individu didiagnosis memiliki diabetes (kategori 1). Ini menunjukkan bahwa mayoritas individu\n",
        "dalam dataset tidak memiliki diabetes."
      ],
      "metadata": {
        "id": "aKDRlJ3uDnqx"
      }
    },
    {
      "cell_type": "markdown",
      "source": [
        "**Outcome distribution using plotly**\n",
        "\n",
        "Buat pie chart interaktif menggunakan plotly untuk distribusi kolom 'Outcome'."
      ],
      "metadata": {
        "id": "7ayvpGm38tmK"
      }
    },
    {
      "cell_type": "code",
      "source": [
        "fig = px.pie(names=outcome_counts.index, values=outcome_counts.values, title='Distribution of Outcome', color_discrete_sequence=px.colors.sequential.RdBu)\n",
        "fig.show()"
      ],
      "metadata": {
        "id": "QV-SrauGBpFQ",
        "colab": {
          "base_uri": "https://localhost:8080/",
          "height": 542
        },
        "outputId": "8d5e6c35-7461-49b6-8af9-53540a2e60ed"
      },
      "execution_count": 11,
      "outputs": [
        {
          "output_type": "display_data",
          "data": {
            "text/html": [
              "<html>\n",
              "<head><meta charset=\"utf-8\" /></head>\n",
              "<body>\n",
              "    <div>            <script src=\"https://cdnjs.cloudflare.com/ajax/libs/mathjax/2.7.5/MathJax.js?config=TeX-AMS-MML_SVG\"></script><script type=\"text/javascript\">if (window.MathJax && window.MathJax.Hub && window.MathJax.Hub.Config) {window.MathJax.Hub.Config({SVG: {font: \"STIX-Web\"}});}</script>                <script type=\"text/javascript\">window.PlotlyConfig = {MathJaxConfig: 'local'};</script>\n",
              "        <script charset=\"utf-8\" src=\"https://cdn.plot.ly/plotly-2.35.2.min.js\"></script>                <div id=\"7fbaa863-4ee2-4ef8-939f-a6bd3c427f3e\" class=\"plotly-graph-div\" style=\"height:525px; width:100%;\"></div>            <script type=\"text/javascript\">                                    window.PLOTLYENV=window.PLOTLYENV || {};                                    if (document.getElementById(\"7fbaa863-4ee2-4ef8-939f-a6bd3c427f3e\")) {                    Plotly.newPlot(                        \"7fbaa863-4ee2-4ef8-939f-a6bd3c427f3e\",                        [{\"domain\":{\"x\":[0.0,1.0],\"y\":[0.0,1.0]},\"hovertemplate\":\"label=%{label}\\u003cbr\\u003evalue=%{value}\\u003cextra\\u003e\\u003c\\u002fextra\\u003e\",\"labels\":[0,1],\"legendgroup\":\"\",\"name\":\"\",\"showlegend\":true,\"values\":[461,227],\"type\":\"pie\"}],                        {\"template\":{\"data\":{\"histogram2dcontour\":[{\"type\":\"histogram2dcontour\",\"colorbar\":{\"outlinewidth\":0,\"ticks\":\"\"},\"colorscale\":[[0.0,\"#0d0887\"],[0.1111111111111111,\"#46039f\"],[0.2222222222222222,\"#7201a8\"],[0.3333333333333333,\"#9c179e\"],[0.4444444444444444,\"#bd3786\"],[0.5555555555555556,\"#d8576b\"],[0.6666666666666666,\"#ed7953\"],[0.7777777777777778,\"#fb9f3a\"],[0.8888888888888888,\"#fdca26\"],[1.0,\"#f0f921\"]]}],\"choropleth\":[{\"type\":\"choropleth\",\"colorbar\":{\"outlinewidth\":0,\"ticks\":\"\"}}],\"histogram2d\":[{\"type\":\"histogram2d\",\"colorbar\":{\"outlinewidth\":0,\"ticks\":\"\"},\"colorscale\":[[0.0,\"#0d0887\"],[0.1111111111111111,\"#46039f\"],[0.2222222222222222,\"#7201a8\"],[0.3333333333333333,\"#9c179e\"],[0.4444444444444444,\"#bd3786\"],[0.5555555555555556,\"#d8576b\"],[0.6666666666666666,\"#ed7953\"],[0.7777777777777778,\"#fb9f3a\"],[0.8888888888888888,\"#fdca26\"],[1.0,\"#f0f921\"]]}],\"heatmap\":[{\"type\":\"heatmap\",\"colorbar\":{\"outlinewidth\":0,\"ticks\":\"\"},\"colorscale\":[[0.0,\"#0d0887\"],[0.1111111111111111,\"#46039f\"],[0.2222222222222222,\"#7201a8\"],[0.3333333333333333,\"#9c179e\"],[0.4444444444444444,\"#bd3786\"],[0.5555555555555556,\"#d8576b\"],[0.6666666666666666,\"#ed7953\"],[0.7777777777777778,\"#fb9f3a\"],[0.8888888888888888,\"#fdca26\"],[1.0,\"#f0f921\"]]}],\"heatmapgl\":[{\"type\":\"heatmapgl\",\"colorbar\":{\"outlinewidth\":0,\"ticks\":\"\"},\"colorscale\":[[0.0,\"#0d0887\"],[0.1111111111111111,\"#46039f\"],[0.2222222222222222,\"#7201a8\"],[0.3333333333333333,\"#9c179e\"],[0.4444444444444444,\"#bd3786\"],[0.5555555555555556,\"#d8576b\"],[0.6666666666666666,\"#ed7953\"],[0.7777777777777778,\"#fb9f3a\"],[0.8888888888888888,\"#fdca26\"],[1.0,\"#f0f921\"]]}],\"contourcarpet\":[{\"type\":\"contourcarpet\",\"colorbar\":{\"outlinewidth\":0,\"ticks\":\"\"}}],\"contour\":[{\"type\":\"contour\",\"colorbar\":{\"outlinewidth\":0,\"ticks\":\"\"},\"colorscale\":[[0.0,\"#0d0887\"],[0.1111111111111111,\"#46039f\"],[0.2222222222222222,\"#7201a8\"],[0.3333333333333333,\"#9c179e\"],[0.4444444444444444,\"#bd3786\"],[0.5555555555555556,\"#d8576b\"],[0.6666666666666666,\"#ed7953\"],[0.7777777777777778,\"#fb9f3a\"],[0.8888888888888888,\"#fdca26\"],[1.0,\"#f0f921\"]]}],\"surface\":[{\"type\":\"surface\",\"colorbar\":{\"outlinewidth\":0,\"ticks\":\"\"},\"colorscale\":[[0.0,\"#0d0887\"],[0.1111111111111111,\"#46039f\"],[0.2222222222222222,\"#7201a8\"],[0.3333333333333333,\"#9c179e\"],[0.4444444444444444,\"#bd3786\"],[0.5555555555555556,\"#d8576b\"],[0.6666666666666666,\"#ed7953\"],[0.7777777777777778,\"#fb9f3a\"],[0.8888888888888888,\"#fdca26\"],[1.0,\"#f0f921\"]]}],\"mesh3d\":[{\"type\":\"mesh3d\",\"colorbar\":{\"outlinewidth\":0,\"ticks\":\"\"}}],\"scatter\":[{\"fillpattern\":{\"fillmode\":\"overlay\",\"size\":10,\"solidity\":0.2},\"type\":\"scatter\"}],\"parcoords\":[{\"type\":\"parcoords\",\"line\":{\"colorbar\":{\"outlinewidth\":0,\"ticks\":\"\"}}}],\"scatterpolargl\":[{\"type\":\"scatterpolargl\",\"marker\":{\"colorbar\":{\"outlinewidth\":0,\"ticks\":\"\"}}}],\"bar\":[{\"error_x\":{\"color\":\"#2a3f5f\"},\"error_y\":{\"color\":\"#2a3f5f\"},\"marker\":{\"line\":{\"color\":\"#E5ECF6\",\"width\":0.5},\"pattern\":{\"fillmode\":\"overlay\",\"size\":10,\"solidity\":0.2}},\"type\":\"bar\"}],\"scattergeo\":[{\"type\":\"scattergeo\",\"marker\":{\"colorbar\":{\"outlinewidth\":0,\"ticks\":\"\"}}}],\"scatterpolar\":[{\"type\":\"scatterpolar\",\"marker\":{\"colorbar\":{\"outlinewidth\":0,\"ticks\":\"\"}}}],\"histogram\":[{\"marker\":{\"pattern\":{\"fillmode\":\"overlay\",\"size\":10,\"solidity\":0.2}},\"type\":\"histogram\"}],\"scattergl\":[{\"type\":\"scattergl\",\"marker\":{\"colorbar\":{\"outlinewidth\":0,\"ticks\":\"\"}}}],\"scatter3d\":[{\"type\":\"scatter3d\",\"line\":{\"colorbar\":{\"outlinewidth\":0,\"ticks\":\"\"}},\"marker\":{\"colorbar\":{\"outlinewidth\":0,\"ticks\":\"\"}}}],\"scattermapbox\":[{\"type\":\"scattermapbox\",\"marker\":{\"colorbar\":{\"outlinewidth\":0,\"ticks\":\"\"}}}],\"scatterternary\":[{\"type\":\"scatterternary\",\"marker\":{\"colorbar\":{\"outlinewidth\":0,\"ticks\":\"\"}}}],\"scattercarpet\":[{\"type\":\"scattercarpet\",\"marker\":{\"colorbar\":{\"outlinewidth\":0,\"ticks\":\"\"}}}],\"carpet\":[{\"aaxis\":{\"endlinecolor\":\"#2a3f5f\",\"gridcolor\":\"white\",\"linecolor\":\"white\",\"minorgridcolor\":\"white\",\"startlinecolor\":\"#2a3f5f\"},\"baxis\":{\"endlinecolor\":\"#2a3f5f\",\"gridcolor\":\"white\",\"linecolor\":\"white\",\"minorgridcolor\":\"white\",\"startlinecolor\":\"#2a3f5f\"},\"type\":\"carpet\"}],\"table\":[{\"cells\":{\"fill\":{\"color\":\"#EBF0F8\"},\"line\":{\"color\":\"white\"}},\"header\":{\"fill\":{\"color\":\"#C8D4E3\"},\"line\":{\"color\":\"white\"}},\"type\":\"table\"}],\"barpolar\":[{\"marker\":{\"line\":{\"color\":\"#E5ECF6\",\"width\":0.5},\"pattern\":{\"fillmode\":\"overlay\",\"size\":10,\"solidity\":0.2}},\"type\":\"barpolar\"}],\"pie\":[{\"automargin\":true,\"type\":\"pie\"}]},\"layout\":{\"autotypenumbers\":\"strict\",\"colorway\":[\"#636efa\",\"#EF553B\",\"#00cc96\",\"#ab63fa\",\"#FFA15A\",\"#19d3f3\",\"#FF6692\",\"#B6E880\",\"#FF97FF\",\"#FECB52\"],\"font\":{\"color\":\"#2a3f5f\"},\"hovermode\":\"closest\",\"hoverlabel\":{\"align\":\"left\"},\"paper_bgcolor\":\"white\",\"plot_bgcolor\":\"#E5ECF6\",\"polar\":{\"bgcolor\":\"#E5ECF6\",\"angularaxis\":{\"gridcolor\":\"white\",\"linecolor\":\"white\",\"ticks\":\"\"},\"radialaxis\":{\"gridcolor\":\"white\",\"linecolor\":\"white\",\"ticks\":\"\"}},\"ternary\":{\"bgcolor\":\"#E5ECF6\",\"aaxis\":{\"gridcolor\":\"white\",\"linecolor\":\"white\",\"ticks\":\"\"},\"baxis\":{\"gridcolor\":\"white\",\"linecolor\":\"white\",\"ticks\":\"\"},\"caxis\":{\"gridcolor\":\"white\",\"linecolor\":\"white\",\"ticks\":\"\"}},\"coloraxis\":{\"colorbar\":{\"outlinewidth\":0,\"ticks\":\"\"}},\"colorscale\":{\"sequential\":[[0.0,\"#0d0887\"],[0.1111111111111111,\"#46039f\"],[0.2222222222222222,\"#7201a8\"],[0.3333333333333333,\"#9c179e\"],[0.4444444444444444,\"#bd3786\"],[0.5555555555555556,\"#d8576b\"],[0.6666666666666666,\"#ed7953\"],[0.7777777777777778,\"#fb9f3a\"],[0.8888888888888888,\"#fdca26\"],[1.0,\"#f0f921\"]],\"sequentialminus\":[[0.0,\"#0d0887\"],[0.1111111111111111,\"#46039f\"],[0.2222222222222222,\"#7201a8\"],[0.3333333333333333,\"#9c179e\"],[0.4444444444444444,\"#bd3786\"],[0.5555555555555556,\"#d8576b\"],[0.6666666666666666,\"#ed7953\"],[0.7777777777777778,\"#fb9f3a\"],[0.8888888888888888,\"#fdca26\"],[1.0,\"#f0f921\"]],\"diverging\":[[0,\"#8e0152\"],[0.1,\"#c51b7d\"],[0.2,\"#de77ae\"],[0.3,\"#f1b6da\"],[0.4,\"#fde0ef\"],[0.5,\"#f7f7f7\"],[0.6,\"#e6f5d0\"],[0.7,\"#b8e186\"],[0.8,\"#7fbc41\"],[0.9,\"#4d9221\"],[1,\"#276419\"]]},\"xaxis\":{\"gridcolor\":\"white\",\"linecolor\":\"white\",\"ticks\":\"\",\"title\":{\"standoff\":15},\"zerolinecolor\":\"white\",\"automargin\":true,\"zerolinewidth\":2},\"yaxis\":{\"gridcolor\":\"white\",\"linecolor\":\"white\",\"ticks\":\"\",\"title\":{\"standoff\":15},\"zerolinecolor\":\"white\",\"automargin\":true,\"zerolinewidth\":2},\"scene\":{\"xaxis\":{\"backgroundcolor\":\"#E5ECF6\",\"gridcolor\":\"white\",\"linecolor\":\"white\",\"showbackground\":true,\"ticks\":\"\",\"zerolinecolor\":\"white\",\"gridwidth\":2},\"yaxis\":{\"backgroundcolor\":\"#E5ECF6\",\"gridcolor\":\"white\",\"linecolor\":\"white\",\"showbackground\":true,\"ticks\":\"\",\"zerolinecolor\":\"white\",\"gridwidth\":2},\"zaxis\":{\"backgroundcolor\":\"#E5ECF6\",\"gridcolor\":\"white\",\"linecolor\":\"white\",\"showbackground\":true,\"ticks\":\"\",\"zerolinecolor\":\"white\",\"gridwidth\":2}},\"shapedefaults\":{\"line\":{\"color\":\"#2a3f5f\"}},\"annotationdefaults\":{\"arrowcolor\":\"#2a3f5f\",\"arrowhead\":0,\"arrowwidth\":1},\"geo\":{\"bgcolor\":\"white\",\"landcolor\":\"#E5ECF6\",\"subunitcolor\":\"white\",\"showland\":true,\"showlakes\":true,\"lakecolor\":\"white\"},\"title\":{\"x\":0.05},\"mapbox\":{\"style\":\"light\"}}},\"legend\":{\"tracegroupgap\":0},\"title\":{\"text\":\"Distribution of Outcome\"},\"piecolorway\":[\"rgb(103,0,31)\",\"rgb(178,24,43)\",\"rgb(214,96,77)\",\"rgb(244,165,130)\",\"rgb(253,219,199)\",\"rgb(247,247,247)\",\"rgb(209,229,240)\",\"rgb(146,197,222)\",\"rgb(67,147,195)\",\"rgb(33,102,172)\",\"rgb(5,48,97)\"]},                        {\"responsive\": true}                    ).then(function(){\n",
              "                            \n",
              "var gd = document.getElementById('7fbaa863-4ee2-4ef8-939f-a6bd3c427f3e');\n",
              "var x = new MutationObserver(function (mutations, observer) {{\n",
              "        var display = window.getComputedStyle(gd).display;\n",
              "        if (!display || display === 'none') {{\n",
              "            console.log([gd, 'removed!']);\n",
              "            Plotly.purge(gd);\n",
              "            observer.disconnect();\n",
              "        }}\n",
              "}});\n",
              "\n",
              "// Listen for the removal of the full notebook cells\n",
              "var notebookContainer = gd.closest('#notebook-container');\n",
              "if (notebookContainer) {{\n",
              "    x.observe(notebookContainer, {childList: true});\n",
              "}}\n",
              "\n",
              "// Listen for the clearing of the current output cell\n",
              "var outputEl = gd.closest('.output');\n",
              "if (outputEl) {{\n",
              "    x.observe(outputEl, {childList: true});\n",
              "}}\n",
              "\n",
              "                        })                };                            </script>        </div>\n",
              "</body>\n",
              "</html>"
            ]
          },
          "metadata": {}
        }
      ]
    },
    {
      "cell_type": "markdown",
      "source": [
        "**Hasil Interpretasi :**"
      ],
      "metadata": {
        "id": "EHKITQ_IDst7"
      }
    },
    {
      "cell_type": "markdown",
      "source": [
        "Berdasarkan hasil distribusi kolom Outcome, diketahui bahwa proporsi Label 0 (Tidak diabetes) berjumlah 461 individu dengan proporsi sebesar 67%. Sehingga menunjukkan sebagian besar data dalam dataset menunjukkan individu yang tidak menderita diabetes. Sedangkan Label 1 (Diabetes), menunjukkan jumlah individu yang menderita diabetes sebanyak 227 individu dengan proporsi sebesar 33%. Dataset menunjukkan ketidakseimbangan (imbalanced data) antara label 0 dan 1. Label 0 lebih dominan dengan proporsi dua kali lipat dari label 1. Ketidakseimbangan ini dapat memengaruhi model pembelajaran mesin jika digunakan untuk klasikasi yang membuat model mungkin bias terhadap kelas mayoritas (0). Diperlukan strategi seperti oversampling untuk kelas minoritas (misalnya, SMOTE) atau undersampling untuk kelas mayoritas untuk mengatasi ketidakseimbangan."
      ],
      "metadata": {
        "id": "jky4fCO8DqdZ"
      }
    }
  ]
}